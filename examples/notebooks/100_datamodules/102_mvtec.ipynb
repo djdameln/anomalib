version https://git-lfs.github.com/spec/v1
oid sha256:425b1c0edd05d919b5040d3e7801b99643652c3f026c6c56a47bab65f5f2e7a9
size 7869
