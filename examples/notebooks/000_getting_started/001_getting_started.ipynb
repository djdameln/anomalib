version https://git-lfs.github.com/spec/v1
oid sha256:b111d020f79198df6f1769c977cef240d50567bb6a01bc0efe5750c5eff14185
size 18724
